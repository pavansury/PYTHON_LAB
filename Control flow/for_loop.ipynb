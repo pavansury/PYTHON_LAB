{
 "cells": [
  {
   "cell_type": "code",
   "execution_count": null,
   "id": "d855ad4e",
   "metadata": {},
   "outputs": [
    {
     "name": "stdout",
     "output_type": "stream",
     "text": [
      "processing the record for ['apple', 'banana', 'apple']\n",
      "processing the record for ['apple', 'banana', 'apple']\n",
      "processing the record for ['apple', 'banana', 'apple']\n"
     ]
    }
   ],
   "source": [
    "name = [\"apple\", \"banana\", \"apple\"]\n",
    "for names in name:\n",
    "    print(f\"processing the record for {names}\")"
   ]
  }
 ],
 "metadata": {
  "kernelspec": {
   "display_name": "venv",
   "language": "python",
   "name": "python3"
  },
  "language_info": {
   "codemirror_mode": {
    "name": "ipython",
    "version": 3
   },
   "file_extension": ".py",
   "mimetype": "text/x-python",
   "name": "python",
   "nbconvert_exporter": "python",
   "pygments_lexer": "ipython3",
   "version": "3.12.3"
  }
 },
 "nbformat": 4,
 "nbformat_minor": 5
}
