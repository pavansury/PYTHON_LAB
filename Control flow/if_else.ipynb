{
 "cells": [
  {
   "cell_type": "code",
   "execution_count": 2,
   "id": "cd2b5348",
   "metadata": {},
   "outputs": [
    {
     "name": "stdout",
     "output_type": "stream",
     "text": [
      "Eligible for voting.\n"
     ]
    }
   ],
   "source": [
    "age =25 \n",
    "if age >= 18:\n",
    "    print(\"Eligible for voting.\")\n",
    "else:\n",
    "    print(\"not Eligible for voting.\")"
   ]
  },
  {
   "cell_type": "code",
   "execution_count": null,
   "id": "e0d490f3",
   "metadata": {},
   "outputs": [
    {
     "name": "stdout",
     "output_type": "stream",
     "text": [
      "data is valid\n"
     ]
    }
   ],
   "source": [
    "value = 4 \n",
    "if value < 0:\n",
    "    print(\"invalid data: negative value found\")\n",
    "else:\n",
    "    print(\"data is valid\")"
   ]
  },
  {
   "cell_type": "code",
   "execution_count": 18,
   "id": "23c564de",
   "metadata": {},
   "outputs": [
    {
     "name": "stdout",
     "output_type": "stream",
     "text": [
      "5 is odd.\n"
     ]
    }
   ],
   "source": [
    "# Use the existing variable 'value' (which is 5)\n",
    "numbe = value\n",
    "\n",
    "# Check if the number is even or odd\n",
    "if numbe % 2 == 0:\n",
    "    print(f\"{numbe} is even.\")\n",
    "else:\n",
    "    print(f\"{numbe} is odd.\")"
   ]
  }
 ],
 "metadata": {
  "kernelspec": {
   "display_name": "venv",
   "language": "python",
   "name": "python3"
  },
  "language_info": {
   "codemirror_mode": {
    "name": "ipython",
    "version": 3
   },
   "file_extension": ".py",
   "mimetype": "text/x-python",
   "name": "python",
   "nbconvert_exporter": "python",
   "pygments_lexer": "ipython3",
   "version": "3.12.3"
  }
 },
 "nbformat": 4,
 "nbformat_minor": 5
}
